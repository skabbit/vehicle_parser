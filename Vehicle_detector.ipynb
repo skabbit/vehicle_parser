{
  "nbformat": 4,
  "nbformat_minor": 0,
  "metadata": {
    "colab": {
      "provenance": []
    },
    "kernelspec": {
      "name": "python3",
      "display_name": "Python 3"
    },
    "language_info": {
      "name": "python"
    }
  },
  "cells": [
    {
      "cell_type": "code",
      "execution_count": 1,
      "metadata": {
        "id": "FLUcxXrtKf1b",
        "cellView": "form"
      },
      "outputs": [],
      "source": [
        "#@title Install requirements\n",
        "%%capture\n",
        "!git clone https://github.com/skabbit/vehicle_parser\n",
        "%cd vehicle_parser/config\n",
        "!unzip stable.zip\n",
        "%cd ..\n",
        "!pip install -r requirements.txt"
      ]
    },
    {
      "cell_type": "code",
      "source": [
        "#@title Mount Google Drive\n",
        "from google.colab import drive\n",
        "drive.mount('/content/drive')\n",
        "print('Google Drive connected.')"
      ],
      "metadata": {
        "colab": {
          "base_uri": "https://localhost:8080/"
        },
        "cellView": "form",
        "id": "QpxDPZGnn5SN",
        "outputId": "1c60067d-5a15-4842-8bf6-1832db2800f4"
      },
      "execution_count": 2,
      "outputs": [
        {
          "output_type": "stream",
          "name": "stdout",
          "text": [
            "Mounted at /content/drive\n",
            "Google Drive connected.\n"
          ]
        }
      ]
    },
    {
      "cell_type": "code",
      "source": [
        "#@title Run vehicle parser (CSV with \"marka\" field)\n",
        "\n",
        "input_file = \"/content/drive/MyDrive/car_test.csv\" #@param {type:\"string\"}\n",
        "output_file = \"/content/drive/MyDrive/vehicles_parsed.csv\" #@param {type:\"string\"}\n",
        "\n",
        "from corrector import CarBrandCorrector, CarBrand\n",
        "corrector = CarBrandCorrector(\"./config/stable\", split_text=False)\n",
        "\n"
      ],
      "metadata": {
        "cellView": "form",
        "id": "w69bzczerzYA"
      },
      "execution_count": 3,
      "outputs": []
    },
    {
      "cell_type": "code",
      "source": [
        "CarBrand.objects.get(id=1742).name"
      ],
      "metadata": {
        "colab": {
          "base_uri": "https://localhost:8080/",
          "height": 35
        },
        "id": "0pJ5XWDV9H-A",
        "outputId": "04215ea0-f743-4e85-f61d-d02cd71d0e77"
      },
      "execution_count": 4,
      "outputs": [
        {
          "output_type": "execute_result",
          "data": {
            "text/plain": [
              "'2107'"
            ],
            "application/vnd.google.colaboratory.intrinsic+json": {
              "type": "string"
            }
          },
          "metadata": {},
          "execution_count": 4
        }
      ]
    },
    {
      "cell_type": "code",
      "source": [
        "import pandas as pd\n",
        "from tqdm import tqdm\n",
        "tqdm.pandas()\n",
        "\n",
        "df = pd.read_csv(input_file)\n",
        "df['carbrand_id'] = df.progress_apply(lambda row: corrector.detect_model(row['marka']), axis=1)\n",
        "df['carbrand_name'] = df.progress_apply(lambda row: str(CarBrand.objects.get(row['carbrand_id'])), axis=1)\n",
        "\n",
        "df.to_csv(output_file)\n",
        "\n",
        "df.head()"
      ],
      "metadata": {
        "colab": {
          "base_uri": "https://localhost:8080/",
          "height": 241
        },
        "id": "aKJlzpVis6Wy",
        "outputId": "c32b4fa5-049d-427c-cebc-167653e55cb7"
      },
      "execution_count": 5,
      "outputs": [
        {
          "output_type": "stream",
          "name": "stderr",
          "text": [
            "100%|██████████| 334/334 [00:51<00:00,  6.45it/s]\n",
            "100%|██████████| 334/334 [00:00<00:00, 47452.66it/s]\n"
          ]
        },
        {
          "output_type": "execute_result",
          "data": {
            "text/plain": [
              "    row_id                vin                           marka  carbrand_id  \\\n",
              "0  1015121  SАLVА2ВD2ЕН890338  ЛЕНД РОВЕР РЕЙНДЖ РОВЕР ЕVОQUЕ          NaN   \n",
              "1  1018833  УV1DZ7056В2221150                     ВОЛЬВО ХС60       1711.0   \n",
              "2  1028304  У3WS47КJ1FВ001231          КАДИЛЛАК ЭСКАЛАДЕ К2ХХ          NaN   \n",
              "3  1028661  WDС2539461V039136   МЕРСЕДЕС-БЕНЦ GLС 250 4 МАТIС          NaN   \n",
              "4  1048144  Z8UА0В1SSВ0001402                 ССАНГ ЕНГ АКШЕН          NaN   \n",
              "\n",
              "  carbrand_name  \n",
              "0          None  \n",
              "1     Volvo S60  \n",
              "2          None  \n",
              "3          None  \n",
              "4          None  "
            ],
            "text/html": [
              "\n",
              "  <div id=\"df-40ee6bb5-1f78-4fba-b7b1-37959a2f398c\">\n",
              "    <div class=\"colab-df-container\">\n",
              "      <div>\n",
              "<style scoped>\n",
              "    .dataframe tbody tr th:only-of-type {\n",
              "        vertical-align: middle;\n",
              "    }\n",
              "\n",
              "    .dataframe tbody tr th {\n",
              "        vertical-align: top;\n",
              "    }\n",
              "\n",
              "    .dataframe thead th {\n",
              "        text-align: right;\n",
              "    }\n",
              "</style>\n",
              "<table border=\"1\" class=\"dataframe\">\n",
              "  <thead>\n",
              "    <tr style=\"text-align: right;\">\n",
              "      <th></th>\n",
              "      <th>row_id</th>\n",
              "      <th>vin</th>\n",
              "      <th>marka</th>\n",
              "      <th>carbrand_id</th>\n",
              "      <th>carbrand_name</th>\n",
              "    </tr>\n",
              "  </thead>\n",
              "  <tbody>\n",
              "    <tr>\n",
              "      <th>0</th>\n",
              "      <td>1015121</td>\n",
              "      <td>SАLVА2ВD2ЕН890338</td>\n",
              "      <td>ЛЕНД РОВЕР РЕЙНДЖ РОВЕР ЕVОQUЕ</td>\n",
              "      <td>NaN</td>\n",
              "      <td>None</td>\n",
              "    </tr>\n",
              "    <tr>\n",
              "      <th>1</th>\n",
              "      <td>1018833</td>\n",
              "      <td>УV1DZ7056В2221150</td>\n",
              "      <td>ВОЛЬВО ХС60</td>\n",
              "      <td>1711.0</td>\n",
              "      <td>Volvo S60</td>\n",
              "    </tr>\n",
              "    <tr>\n",
              "      <th>2</th>\n",
              "      <td>1028304</td>\n",
              "      <td>У3WS47КJ1FВ001231</td>\n",
              "      <td>КАДИЛЛАК ЭСКАЛАДЕ К2ХХ</td>\n",
              "      <td>NaN</td>\n",
              "      <td>None</td>\n",
              "    </tr>\n",
              "    <tr>\n",
              "      <th>3</th>\n",
              "      <td>1028661</td>\n",
              "      <td>WDС2539461V039136</td>\n",
              "      <td>МЕРСЕДЕС-БЕНЦ GLС 250 4 МАТIС</td>\n",
              "      <td>NaN</td>\n",
              "      <td>None</td>\n",
              "    </tr>\n",
              "    <tr>\n",
              "      <th>4</th>\n",
              "      <td>1048144</td>\n",
              "      <td>Z8UА0В1SSВ0001402</td>\n",
              "      <td>ССАНГ ЕНГ АКШЕН</td>\n",
              "      <td>NaN</td>\n",
              "      <td>None</td>\n",
              "    </tr>\n",
              "  </tbody>\n",
              "</table>\n",
              "</div>\n",
              "      <button class=\"colab-df-convert\" onclick=\"convertToInteractive('df-40ee6bb5-1f78-4fba-b7b1-37959a2f398c')\"\n",
              "              title=\"Convert this dataframe to an interactive table.\"\n",
              "              style=\"display:none;\">\n",
              "        \n",
              "  <svg xmlns=\"http://www.w3.org/2000/svg\" height=\"24px\"viewBox=\"0 0 24 24\"\n",
              "       width=\"24px\">\n",
              "    <path d=\"M0 0h24v24H0V0z\" fill=\"none\"/>\n",
              "    <path d=\"M18.56 5.44l.94 2.06.94-2.06 2.06-.94-2.06-.94-.94-2.06-.94 2.06-2.06.94zm-11 1L8.5 8.5l.94-2.06 2.06-.94-2.06-.94L8.5 2.5l-.94 2.06-2.06.94zm10 10l.94 2.06.94-2.06 2.06-.94-2.06-.94-.94-2.06-.94 2.06-2.06.94z\"/><path d=\"M17.41 7.96l-1.37-1.37c-.4-.4-.92-.59-1.43-.59-.52 0-1.04.2-1.43.59L10.3 9.45l-7.72 7.72c-.78.78-.78 2.05 0 2.83L4 21.41c.39.39.9.59 1.41.59.51 0 1.02-.2 1.41-.59l7.78-7.78 2.81-2.81c.8-.78.8-2.07 0-2.86zM5.41 20L4 18.59l7.72-7.72 1.47 1.35L5.41 20z\"/>\n",
              "  </svg>\n",
              "      </button>\n",
              "      \n",
              "  <style>\n",
              "    .colab-df-container {\n",
              "      display:flex;\n",
              "      flex-wrap:wrap;\n",
              "      gap: 12px;\n",
              "    }\n",
              "\n",
              "    .colab-df-convert {\n",
              "      background-color: #E8F0FE;\n",
              "      border: none;\n",
              "      border-radius: 50%;\n",
              "      cursor: pointer;\n",
              "      display: none;\n",
              "      fill: #1967D2;\n",
              "      height: 32px;\n",
              "      padding: 0 0 0 0;\n",
              "      width: 32px;\n",
              "    }\n",
              "\n",
              "    .colab-df-convert:hover {\n",
              "      background-color: #E2EBFA;\n",
              "      box-shadow: 0px 1px 2px rgba(60, 64, 67, 0.3), 0px 1px 3px 1px rgba(60, 64, 67, 0.15);\n",
              "      fill: #174EA6;\n",
              "    }\n",
              "\n",
              "    [theme=dark] .colab-df-convert {\n",
              "      background-color: #3B4455;\n",
              "      fill: #D2E3FC;\n",
              "    }\n",
              "\n",
              "    [theme=dark] .colab-df-convert:hover {\n",
              "      background-color: #434B5C;\n",
              "      box-shadow: 0px 1px 3px 1px rgba(0, 0, 0, 0.15);\n",
              "      filter: drop-shadow(0px 1px 2px rgba(0, 0, 0, 0.3));\n",
              "      fill: #FFFFFF;\n",
              "    }\n",
              "  </style>\n",
              "\n",
              "      <script>\n",
              "        const buttonEl =\n",
              "          document.querySelector('#df-40ee6bb5-1f78-4fba-b7b1-37959a2f398c button.colab-df-convert');\n",
              "        buttonEl.style.display =\n",
              "          google.colab.kernel.accessAllowed ? 'block' : 'none';\n",
              "\n",
              "        async function convertToInteractive(key) {\n",
              "          const element = document.querySelector('#df-40ee6bb5-1f78-4fba-b7b1-37959a2f398c');\n",
              "          const dataTable =\n",
              "            await google.colab.kernel.invokeFunction('convertToInteractive',\n",
              "                                                     [key], {});\n",
              "          if (!dataTable) return;\n",
              "\n",
              "          const docLinkHtml = 'Like what you see? Visit the ' +\n",
              "            '<a target=\"_blank\" href=https://colab.research.google.com/notebooks/data_table.ipynb>data table notebook</a>'\n",
              "            + ' to learn more about interactive tables.';\n",
              "          element.innerHTML = '';\n",
              "          dataTable['output_type'] = 'display_data';\n",
              "          await google.colab.output.renderOutput(dataTable, element);\n",
              "          const docLink = document.createElement('div');\n",
              "          docLink.innerHTML = docLinkHtml;\n",
              "          element.appendChild(docLink);\n",
              "        }\n",
              "      </script>\n",
              "    </div>\n",
              "  </div>\n",
              "  "
            ]
          },
          "metadata": {},
          "execution_count": 5
        }
      ]
    },
    {
      "cell_type": "code",
      "source": [],
      "metadata": {
        "id": "S9ubPXB__2vw"
      },
      "execution_count": 6,
      "outputs": []
    }
  ]
}